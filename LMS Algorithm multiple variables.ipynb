{
 "cells": [
  {
   "cell_type": "markdown",
   "metadata": {},
   "source": [
    "# LMS Algorithm"
   ]
  },
  {
   "cell_type": "code",
   "execution_count": null,
   "metadata": {
    "collapsed": false
   },
   "outputs": [],
   "source": [
    "%matplotlib inline\n",
    "import matplotlib.pyplot as plt\n",
    "import numpy as np\n",
    "import pandas as pd\n",
    "\n",
    "class LMSTrainer(object): \n",
    "\n",
    "    def __init__(self, alpha): \n",
    "        self.alpha = alpha\n",
    "        pass\n",
    "    \n",
    "    def hipothesis(self, theta, x):\n",
    "        hip = 0\n",
    "        for i in range(len(x)):\n",
    "            hip = hip + theta[i]*x[i]\n",
    "        return hip\n",
    "\n",
    "    def least_minimun_square(self,theta,x,y,alpha):    #alpha é a taxa de aprendizado\n",
    "        stop = False\n",
    "        i = 0\n",
    "        m = len(x)\n",
    "        J = (1/2*m)*sum([(self.hipothesis(theta,x[i]) - y[i])**2 for i in range(m)])\n",
    "        convergetax = 0.001\n",
    "        max_iter = 10000\n",
    "        \n",
    "        while(not stop):\n",
    "            temptheta = theta\n",
    "            #hipothesis = \n",
    "            for n in range(len(theta)):\n",
    "                temptheta[n] = (theta[n] - alpha * 1/m * sum([(self.hipothesis(theta,x[i]) - y[i])*x[i][n] for i in range(m)]))\n",
    "                #print(\"theta[%d] = %.2f\" %(n, temptheta[n]))\n",
    "                \n",
    "            theta = temptheta\n",
    "            \n",
    "            j = (1/2*m)*sum([(self.hipothesis(theta,x[i]) - y[i])**2 for i in range(m)])\n",
    "            \n",
    "            #print(\"%.2f %.2f J(t0,t1) J-j(%.2f - %.2f) = %f\" %(theta[0],theta[1],J,j,J-j))\n",
    "            \n",
    "            plt.scatter(i, j, color='black')\n",
    "            \n",
    "            if(J-j <= convergetax):\n",
    "                stop = True\n",
    "            else:\n",
    "                J = j\n",
    "            if(i>=max_iter):\n",
    "                print(\"Iterações maximas excedidas\")\n",
    "                stop = True\n",
    "            else:\n",
    "                i = i+1\n",
    "        return theta\n",
    "    \n",
    "    def train(self, samples,labels):\n",
    "        theta = []\n",
    "        for sample in samples[0]:\n",
    "            theta.append(0)\n",
    "            \n",
    "        model = self.least_minimun_square(theta,samples,labels,self.alpha)\n",
    "        \n",
    "        print(model)\n",
    "        \n",
    "        return LMSPredictor(model)\n",
    "\n",
    "class LMSPredictor(object):\n",
    "    def __init__(self,model):\n",
    "        self.model = model\n",
    "        pass\n",
    "    \n",
    "    def predict(self, samples):\n",
    "        print(samples[0][2])\n",
    "        predict = []\n",
    "        for i in range(len(samples)):\n",
    "            predict.append(0)\n",
    "            for j in range(len(self.model)):\n",
    "                #print(\"predict[%d] = self.model[%d] (%f) * samples[%d] (%d)\" % (i,j,self.model[j], j, samples[j]))\n",
    "                predict[i] = predict[i] + self.model[j]*samples[i][j]\n",
    "        \n",
    "        return predict\n",
    "    pass"
   ]
  },
  {
   "cell_type": "code",
   "execution_count": null,
   "metadata": {
    "collapsed": true
   },
   "outputs": [],
   "source": [
    "df = pd.read_csv('./student/student-mat.csv',skiprows=1,sep=\";\",header=None)  #Lê csv\n",
    "PP = PreProcessing(df.as_matrix()) #instancia classe de pré processamento\n",
    "matriz = df.as_matrix().transpose() #matriz transposta pra trabalhar as colunas como linhas(mais fácil) \n",
    "for i,coluna in enumerate(matriz):\n",
    "    if(not isinstance(coluna[1], (int,float))): #NÃO SE A COLUNA É DE INT OU FLOAT\n",
    "        matriz[i] = PP.change_Collumn_to_Int(coluna) #Tratamento dos casos que são string para ints\n",
    "#print(matriz.transpose())\n",
    "matriz = matriz.transpose() #volto a matriz ao normal\n",
    "train_samples = np.array(matriz)[:,:32]  #corto x e y\n",
    "train_labels = np.array(matriz)[:,32:33] \n",
    "test_samples = np.array(matriz)[:10,:32]\n",
    "\n"
   ]
  },
  {
   "cell_type": "code",
   "execution_count": null,
   "metadata": {
    "collapsed": false,
    "scrolled": true
   },
   "outputs": [],
   "source": [
    "lms = LMSTrainer(0.001)\n",
    "predictor = lms.train(train_samples, train_labels)\n",
    "predictions = predictor.predict(test_samples)\n",
    "print(predictions)\n"
   ]
  },
  {
   "cell_type": "code",
   "execution_count": null,
   "metadata": {
    "collapsed": false
   },
   "outputs": [],
   "source": [
    "class PreProcessing(object):\n",
    "    def __init__(self,dataTable):\n",
    "        self.dataTable = dataTable\n",
    "        pass\n",
    "    \n",
    "    def change_Collumn_to_Int(self, dataTable):\n",
    "        tempDT = []\n",
    "        dictionary = {}\n",
    "        lastNumber = 0\n",
    "        for element in dataTable:\n",
    "            if(element == 'yes' or element == True or element == \"true\"):\n",
    "                tempDT.append(1)\n",
    "            elif(element == 'no' or element == False or element == \"false\"):\n",
    "                tempDT.append(0) \n",
    "            elif(element in dictionary):\n",
    "                   tempDT.append(dictionary[element])\n",
    "            else:\n",
    "                dictionary[element] = lastNumber\n",
    "                lastNumber = lastNumber + 1\n",
    "                tempDT.append(dictionary[element])\n",
    "        return tempDT\n",
    "    \n",
    "    \n",
    " "
   ]
  },
  {
   "cell_type": "code",
   "execution_count": null,
   "metadata": {
    "collapsed": true
   },
   "outputs": [],
   "source": []
  }
 ],
 "metadata": {
  "anaconda-cloud": {},
  "kernelspec": {
   "display_name": "Python [Root]",
   "language": "python",
   "name": "Python [Root]"
  },
  "language_info": {
   "codemirror_mode": {
    "name": "ipython",
    "version": 3
   },
   "file_extension": ".py",
   "mimetype": "text/x-python",
   "name": "python",
   "nbconvert_exporter": "python",
   "pygments_lexer": "ipython3",
   "version": "3.5.2"
  }
 },
 "nbformat": 4,
 "nbformat_minor": 0
}
